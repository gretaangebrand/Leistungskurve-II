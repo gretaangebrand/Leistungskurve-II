{
 "cells": [
  {
   "cell_type": "code",
   "execution_count": 2,
   "metadata": {},
   "outputs": [],
   "source": [
    "import pandas as pd\n",
    "import numpy as np\n",
    "\n",
    "def calculate_power_curve(powerOriginal, time_intervals):\n",
    "    \"\"\"\n",
    "    Berechnet die Leistungskurve basierend auf den Leistungsdaten und den angegebenen Zeitintervallen.\n",
    "\n",
    "    Args:\n",
    "        power_data (pd.Series oder np.array): Serie oder Array mit Leistungsdaten in Watt.\n",
    "        time_intervals (list): Liste von Zeitintervallen in Sekunden.\n",
    "\n",
    "    Returns:\n",
    "        pd.DataFrame: DataFrame mit den Spalten 'Interval (s)' und 'Average Power (W)'.\n",
    "    \"\"\"\n",
    "    if isinstance(powerOriginal, np.ndarray):\n",
    "        power_data = pd.Series(powerOriginal)\n",
    "\n",
    "    # DataFrame für die Leistungskurve erstellen\n",
    "    power_curve = pd.DataFrame(columns=['Interval (s)', 'Average Power (W)'])\n",
    "\n",
    "    # Durchschnittliche Leistung für jedes Zeitintervall berechnen\n",
    "    for interval in time_intervals:\n",
    "        avg_powers = []\n",
    "        for i in range(len(power_data) - interval + 1):\n",
    "            avg_power = power_data[i:i + interval].mean()\n",
    "            avg_powers.append(avg_power)\n",
    "        \n",
    "        # Maximalen Durchschnittswert für das Intervall speichern\n",
    "        if avg_powers:\n",
    "            max_avg_power = max(avg_powers)\n",
    "        else:\n",
    "            max_avg_power = np.nan\n",
    "        \n",
    "        power_curve = power_curve.append({'Interval (s)': interval, 'Average Power (W)': max_avg_power}, ignore_index=True)\n",
    "\n",
    "    return power_curve"
   ]
  },
  {
   "cell_type": "code",
   "execution_count": null,
   "metadata": {},
   "outputs": [],
   "source": []
  }
 ],
 "metadata": {
  "kernelspec": {
   "display_name": "venv",
   "language": "python",
   "name": "python3"
  },
  "language_info": {
   "codemirror_mode": {
    "name": "ipython",
    "version": 3
   },
   "file_extension": ".py",
   "mimetype": "text/x-python",
   "name": "python",
   "nbconvert_exporter": "python",
   "pygments_lexer": "ipython3",
   "version": "3.12.2"
  }
 },
 "nbformat": 4,
 "nbformat_minor": 2
}
